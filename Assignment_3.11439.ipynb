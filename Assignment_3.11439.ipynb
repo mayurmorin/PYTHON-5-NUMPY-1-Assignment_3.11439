{
 "cells": [
  {
   "cell_type": "markdown",
   "metadata": {},
   "source": [
    "Task 1.1 Write a function to compute 5/0 and use try/except to catch the exceptions."
   ]
  },
  {
   "cell_type": "code",
   "execution_count": 1,
   "metadata": {},
   "outputs": [
    {
     "name": "stdout",
     "output_type": "stream",
     "text": [
      "Error dividing by zero!!!\n",
      "Finally Always Executed and Used For Cleaning Up\n",
      "--------------\n",
      "Output Value :  2.0\n",
      "Finally Always Executed and Used For Cleaning Up\n",
      "--------------\n",
      "Any Other Exception has been handled\n",
      "Finally Always Executed and Used For Cleaning Up\n"
     ]
    }
   ],
   "source": [
    "def myDivision(num1,num2):\n",
    "    try:\n",
    "        x = num1 / num2\n",
    "    except ZeroDivisionError:    #When num2 value is zero, this exception will be raised.\n",
    "        print(\"Error dividing by zero!!!\")\n",
    "    except:                      #Any other exceptions will be raised here.\n",
    "        print(\"Any Other Exception has been handled\")\n",
    "    else:                        #If no exception and Division gives valid output, then we can print the value using else\n",
    "        print(\"Output Value : \", x)\n",
    "    finally:                     #It is optional, but is intended to define clean-up actions which must be executed \n",
    "        print(\"Finally Always Executed and Used For Cleaning Up\")\n",
    "    \n",
    "myDivision(5,0)               #Function returns Error Dividing by Zero\n",
    "print(\"--------------\")\n",
    "myDivision(4,2)               #Function returns correct output with division   \n",
    "print(\"--------------\")\n",
    "myDivision((1,1),(1,1))       #Function return other exception by passing wrong values as parameters"
   ]
  },
  {
   "cell_type": "markdown",
   "metadata": {},
   "source": [
    "Task 1.2.Implement a Python program to generate all sentences where subject is in [\"Americans \",\n",
    "\"Indians\"] and verb is in [\"Play\", \"watch\"] and the object is in [\"Baseball\",\"cricket\"].\n",
    "Hint: Subject,Verb and Object should be declared in the program as shown below.\n",
    "subjects=[\"Americans \",\"Indians\"]\n",
    "verbs=[\"play\",\"watch\"]\n",
    "objects=[\"Baseball\",\"Cricket\"]\n",
    "Output should come as below:\n",
    "Americans play Baseball.\n",
    "Americans play Cricket.\n",
    "Americans watch Baseball.\n",
    "Americans watch Cricket.\n",
    "Indians play Baseball.\n",
    "Indians play Cricket.\n",
    "Indians watch Baseball.\n",
    "Indians watch Cricket."
   ]
  },
  {
   "cell_type": "code",
   "execution_count": 2,
   "metadata": {},
   "outputs": [
    {
     "name": "stdout",
     "output_type": "stream",
     "text": [
      "Americans  play Baseball.\n",
      "Americans  play Cricket.\n",
      "Americans  watch Baseball.\n",
      "Americans  watch Cricket.\n",
      "Indians play Baseball.\n",
      "Indians play Cricket.\n",
      "Indians watch Baseball.\n",
      "Indians watch Cricket.\n",
      "\n"
     ]
    }
   ],
   "source": [
    "subjects=[\"Americans \",\"Indians\"]\n",
    "verbs=[\"play\",\"watch\"]\n",
    "objects=[\"Baseball\",\"Cricket\"]\n",
    "#By Using list comprehension along with formatting for the output values as specified output can be achieved.\n",
    "print(''.join([ sub + ' ' + verb + ' ' + obj + '.\\n' for sub in subjects for verb in verbs for obj in objects]))"
   ]
  },
  {
   "cell_type": "markdown",
   "metadata": {},
   "source": [
    "Task 2.1. Write a function so that the columns of the output matrix are powers of the input vector.\n",
    "The order of the powers is determined by the increasing boolean argument. Specifically, when\n",
    "increasing is False, the i-th output column is the input vector raised element-wise to the power\n",
    "of N - i - 1.\n",
    "HINT: Such a matrix with a geometric progression in each row is named for Alexandre-\n",
    "Theophile Vandermonde."
   ]
  },
  {
   "cell_type": "code",
   "execution_count": 3,
   "metadata": {},
   "outputs": [
    {
     "name": "stdout",
     "output_type": "stream",
     "text": [
      "When increasing is False : \n",
      " [[   1    1    1    1    1    1]\n",
      " [  32   16    8    4    2    1]\n",
      " [ 243   81   27    9    3    1]\n",
      " [1024  256   64   16    4    1]\n",
      " [3125  625  125   25    5    1]]\n",
      "-------------------------\n",
      "When increasing is True : \n",
      " [[  1   1   1   1   1]\n",
      " [  1   2   4   8  16]\n",
      " [  1   3   9  27  81]\n",
      " [  1   4  16  64 256]\n",
      " [  1   5  25 125 625]]\n"
     ]
    }
   ],
   "source": [
    "import numpy as np\n",
    "def myVander(lst,columns,boolean):\n",
    "    x = np.array(lst)  #x : array_like 1-D input array.\n",
    "    N = columns        #N : int, optional, Number of columns in the output.\n",
    "    increase = boolean #Order of the powers of the columns.  \n",
    "                       #If True, the powers increase from left to right, if False (the default) they are reversed.\n",
    "    return np.vander(x,N,increase)\n",
    "\n",
    "print('When increasing is False : \\n', myVander([1,2,3,4,5],6,False))\n",
    "print('-------------------------')\n",
    "print('When increasing is True : \\n', myVander([1,2,3,4,5],5, True))"
   ]
  },
  {
   "cell_type": "code",
   "execution_count": null,
   "metadata": {},
   "outputs": [],
   "source": []
  }
 ],
 "metadata": {
  "kernelspec": {
   "display_name": "Python 3",
   "language": "python",
   "name": "python3"
  },
  "language_info": {
   "codemirror_mode": {
    "name": "ipython",
    "version": 3
   },
   "file_extension": ".py",
   "mimetype": "text/x-python",
   "name": "python",
   "nbconvert_exporter": "python",
   "pygments_lexer": "ipython3",
   "version": "3.6.5"
  }
 },
 "nbformat": 4,
 "nbformat_minor": 2
}
